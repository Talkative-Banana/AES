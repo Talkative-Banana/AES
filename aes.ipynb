{
  "nbformat": 4,
  "nbformat_minor": 0,
  "metadata": {
    "colab": {
      "provenance": []
    },
    "kernelspec": {
      "name": "python3",
      "display_name": "Python 3"
    },
    "language_info": {
      "name": "python"
    }
  },
  "cells": [
    {
      "cell_type": "markdown",
      "source": [
        "## Project 1"
      ],
      "metadata": {
        "id": "KxvAbP7ekHPO"
      }
    },
    {
      "cell_type": "markdown",
      "source": [
        "# Encryption"
      ],
      "metadata": {
        "id": "6aT8OEoCye9U"
      }
    },
    {
      "cell_type": "code",
      "source": [
        "pip install galois"
      ],
      "metadata": {
        "id": "um4-WGdxIQ5h",
        "colab": {
          "base_uri": "https://localhost:8080/"
        },
        "outputId": "11e817d1-825a-4844-d08b-0cd8fabf560e"
      },
      "execution_count": null,
      "outputs": [
        {
          "output_type": "stream",
          "name": "stdout",
          "text": [
            "Requirement already satisfied: galois in /usr/local/lib/python3.10/dist-packages (0.3.8)\n",
            "Requirement already satisfied: numpy<1.27,>=1.21.0 in /usr/local/lib/python3.10/dist-packages (from galois) (1.25.2)\n",
            "Requirement already satisfied: numba<0.60,>=0.55 in /usr/local/lib/python3.10/dist-packages (from galois) (0.58.1)\n",
            "Requirement already satisfied: typing-extensions>=4.0.0 in /usr/local/lib/python3.10/dist-packages (from galois) (4.9.0)\n",
            "Requirement already satisfied: llvmlite<0.42,>=0.41.0dev0 in /usr/local/lib/python3.10/dist-packages (from numba<0.60,>=0.55->galois) (0.41.1)\n"
          ]
        }
      ]
    },
    {
      "cell_type": "code",
      "source": [
        "import numpy as np\n",
        "import galois\n",
        "\n",
        "GF = galois.GF(2**8, irreducible_poly=galois.Poly.Degrees([8,4,3,1,0]))\n",
        "\n",
        "# Global matrix for Mix Column multiplication\n",
        "\n",
        "mixcolMatrix = [[2, 3, 1, 1], [1, 2, 3, 1], [1, 1, 2, 3], [3, 1, 1, 2]]\n",
        "\n",
        "# List of S-Boxes different for each round\n",
        "s_box = [\n",
        "        [int('63', 16), int('7c', 16), int('77', 16), int('7b', 16), int('f2', 16), int('6b', 16), int('6f', 16), int('c5', 16), int(\n",
        "            '30', 16), int('01', 16), int('67', 16), int('2b', 16), int('fe', 16), int('d7', 16), int('ab', 16), int('76', 16)],\n",
        "        [int('ca', 16), int('82', 16), int('c9', 16), int('7d', 16), int('fa', 16), int('59', 16), int('47', 16), int('f0', 16), int(\n",
        "            'ad', 16), int('d4', 16), int('a2', 16), int('af', 16), int('9c', 16), int('a4', 16), int('72', 16), int('c0', 16)],\n",
        "        [int('b7', 16), int('fd', 16), int('93', 16), int('26', 16), int('36', 16), int('3f', 16), int('f7', 16), int('cc', 16), int(\n",
        "            '34', 16), int('a5', 16), int('e5', 16), int('f1', 16), int('71', 16), int('d8', 16), int('31', 16), int('15', 16)],\n",
        "        [int('04', 16), int('c7', 16), int('23', 16), int('c3', 16), int('18', 16), int('96', 16), int('05', 16), int('9a', 16), int(\n",
        "            '07', 16), int('12', 16), int('80', 16), int('e2', 16), int('eb', 16), int('27', 16), int('b2', 16), int('75', 16)],\n",
        "        [int('09', 16), int('83', 16), int('2c', 16), int('1a', 16), int('1b', 16), int('6e', 16), int('5a', 16), int('a0', 16), int(\n",
        "            '52', 16), int('3b', 16), int('d6', 16), int('b3', 16), int('29', 16), int('e3', 16), int('2f', 16), int('84', 16)],\n",
        "        [int('53', 16), int('d1', 16), int('00', 16), int('ed', 16), int('20', 16), int('fc', 16), int('b1', 16), int('5b', 16), int(\n",
        "            '6a', 16), int('cb', 16), int('be', 16), int('39', 16), int('4a', 16), int('4c', 16), int('58', 16), int('cf', 16)],\n",
        "        [int('d0', 16), int('ef', 16), int('aa', 16), int('fb', 16), int('43', 16), int('4d', 16), int('33', 16), int('85', 16), int(\n",
        "            '45', 16), int('f9', 16), int('02', 16), int('7f', 16), int('50', 16), int('3c', 16), int('9f', 16), int('a8', 16)],\n",
        "        [int('51', 16), int('a3', 16), int('40', 16), int('8f', 16), int('92', 16), int('9d', 16), int('38', 16), int('f5', 16), int(\n",
        "            'bc', 16), int('b6', 16), int('da', 16), int('21', 16), int('10', 16), int('ff', 16), int('f3', 16), int('d2', 16)],\n",
        "        [int('cd', 16), int('0c', 16), int('13', 16), int('ec', 16), int('5f', 16), int('97', 16), int('44', 16), int('17', 16), int(\n",
        "            'c4', 16), int('a7', 16), int('7e', 16), int('3d', 16), int('64', 16), int('5d', 16), int('19', 16), int('73', 16)],\n",
        "        [int('60', 16), int('81', 16), int('4f', 16), int('dc', 16), int('22', 16), int('2a', 16), int('90', 16), int('88', 16), int(\n",
        "            '46', 16), int('ee', 16), int('b8', 16), int('14', 16), int('de', 16), int('5e', 16), int('0b', 16), int('db', 16)],\n",
        "        [int('e0', 16), int('32', 16), int('3a', 16), int('0a', 16), int('49', 16), int('06', 16), int('24', 16), int('5c', 16), int(\n",
        "            'c2', 16), int('d3', 16), int('ac', 16), int('62', 16), int('91', 16), int('95', 16), int('e4', 16), int('79', 16)],\n",
        "        [int('e7', 16), int('c8', 16), int('37', 16), int('6d', 16), int('8d', 16), int('d5', 16), int('4e', 16), int('a9', 16), int(\n",
        "            '6c', 16), int('56', 16), int('f4', 16), int('ea', 16), int('65', 16), int('7a', 16), int('ae', 16), int('08', 16)],\n",
        "        [int('ba', 16), int('78', 16), int('25', 16), int('2e', 16), int('1c', 16), int('a6', 16), int('b4', 16), int('c6', 16), int(\n",
        "            'e8', 16), int('dd', 16), int('74', 16), int('1f', 16), int('4b', 16), int('bd', 16), int('8b', 16), int('8a', 16)],\n",
        "        [int('70', 16), int('3e', 16), int('b5', 16), int('66', 16), int('48', 16), int('03', 16), int('f6', 16), int('0e', 16), int(\n",
        "            '61', 16), int('35', 16), int('57', 16), int('b9', 16), int('86', 16), int('c1', 16), int('1d', 16), int('9e', 16)],\n",
        "        [int('e1', 16), int('f8', 16), int('98', 16), int('11', 16), int('69', 16), int('d9', 16), int('8e', 16), int('94', 16), int(\n",
        "            '9b', 16), int('1e', 16), int('87', 16), int('e9', 16), int('ce', 16), int('55', 16), int('28', 16), int('df', 16)],\n",
        "        [int('8c', 16), int('a1', 16), int('89', 16), int('0d', 16), int('bf', 16), int('e6', 16), int('42', 16), int('68', 16), int(\n",
        "            '41', 16), int('99', 16), int('2d', 16), int('0f', 16), int('b0', 16), int('54', 16), int('bb', 16), int('16', 16)]\n",
        "    ]"
      ],
      "metadata": {
        "id": "apx2t2dszUn-"
      },
      "execution_count": null,
      "outputs": []
    },
    {
      "cell_type": "markdown",
      "source": [
        "ShiftRows"
      ],
      "metadata": {
        "id": "yOwWDHiH57tB"
      }
    },
    {
      "cell_type": "code",
      "source": [
        "def shift_rows(matrix, round):\n",
        "    # Second row\n",
        "    saved_1 = matrix[1][0]\n",
        "    for i in range(3):\n",
        "        matrix[1][i] = matrix[1][(i+1)%4]\n",
        "    matrix[1][3] = saved_1\n",
        "\n",
        "    # Third row\n",
        "    saved_2_1 = matrix[2][0]\n",
        "    saved_2_2 = matrix[2][1]\n",
        "    for i in range(2):\n",
        "        matrix[2][i] = matrix[2][(i+2)%4]\n",
        "    matrix[2][2] = saved_2_1\n",
        "    matrix[2][3] = saved_2_2\n",
        "\n",
        "    # Fourth row\n",
        "    saved_3 = matrix[3][3]\n",
        "    for i in range(3,0,-1):\n",
        "        matrix[3][i] = matrix[3][(i-1)%4]\n",
        "    matrix[3][0] = saved_3\n",
        "\n",
        "    return matrix\n",
        "\n",
        "print(shift_rows([['cc', '5f', '82', '46'], ['32', '6c', '5f', 'a9'], ['0e', 'a3', '4d', '30'], ['7c', 'ae', 'a2', '10']], 1))"
      ],
      "metadata": {
        "id": "yiicyvZD5-b_",
        "colab": {
          "base_uri": "https://localhost:8080/"
        },
        "outputId": "36116db0-cb16-434a-fa61-74b0c1635707"
      },
      "execution_count": null,
      "outputs": [
        {
          "output_type": "stream",
          "name": "stdout",
          "text": [
            "[['cc', '5f', '82', '46'], ['6c', '5f', 'a9', '32'], ['4d', '30', '0e', 'a3'], ['10', '7c', 'ae', 'a2']]\n"
          ]
        }
      ]
    },
    {
      "cell_type": "markdown",
      "source": [
        "MixColumns"
      ],
      "metadata": {
        "id": "eWQHhliS9vFl"
      }
    },
    {
      "cell_type": "code",
      "source": [
        "def mix_columns(matrix, inverse):\n",
        "  mat = [[0 for _ in range(4)] for __ in range(4)]\n",
        "  for row in range(4):\n",
        "    for col in range(4):\n",
        "      mat[row][col] = int(matrix[row][col], 16)\n",
        "\n",
        "  matrix = GF(np.array(mat))\n",
        "  M = None\n",
        "  if not inverse:\n",
        "    M = GF(np.array(mixcolMatrix))\n",
        "  else:\n",
        "    M = GF(np.array(ImixcolMatrix))\n",
        "  a = np.array(np.dot(M, matrix))\n",
        "\n",
        "  res = [[\"\" for _ in range(4)] for __ in range(4)]\n",
        "\n",
        "  for row in range(4):\n",
        "    for col in range(4):\n",
        "      res[row][col] = hex(int(a[row][col]))[2:].zfill(2)\n",
        "\n",
        "  return res\n",
        "\n",
        "mix_columns([['87', 'f2', '4d', '97'], ['6e', '4c', '90', 'ec'], ['46', 'e7', '4a', 'c3'], ['a6', '8c', 'd8', '95']], False)"
      ],
      "metadata": {
        "id": "U1Dt0MyxLHKB",
        "colab": {
          "base_uri": "https://localhost:8080/"
        },
        "outputId": "fe2e2185-1840-44d2-d718-58d1266a01a9"
      },
      "execution_count": null,
      "outputs": [
        {
          "output_type": "execute_result",
          "data": {
            "text/plain": [
              "[['47', '40', 'a3', '4c'],\n",
              " ['37', 'd4', '70', '9f'],\n",
              " ['94', 'e4', '3a', '42'],\n",
              " ['ed', 'a5', 'a6', 'bc']]"
            ]
          },
          "metadata": {},
          "execution_count": 116
        }
      ]
    },
    {
      "cell_type": "code",
      "source": [
        "rc_dictionary = {1: \"01\", 2: \"02\", 3: \"04\", 4: \"08\", 5: \"10\", 6: \"20\", 7: \"40\", 8:\"80\", 9:\"1B\", 10: \"36\"}\n",
        "\n",
        "def g(w_word, round):\n",
        "    # Shift Operation\n",
        "    temp = w_word[0]\n",
        "    for i in range(3):\n",
        "        w_word[i] = w_word[(i+1)%4]\n",
        "    w_word[3] = temp\n",
        "\n",
        "    for i in range(4):\n",
        "        w_word[i] = hex(s_box[int(w_word[i][:4], 2)][int(w_word[i][4:], 2)])[2:].zfill(2)\n",
        "\n",
        "    w0 = bin(int(w_word[0][0], 16))[2:].zfill(4) + bin(int(w_word[0][1], 16))[2:].zfill(4)\n",
        "    w_ = bin(int(rc_dictionary[round][0], 16))[2:].zfill(4) + bin(int(rc_dictionary[round][1], 16))[2:].zfill(4)\n",
        "\n",
        "    res = \"\"\n",
        "    for bit in range(8):\n",
        "      if(w0[bit] == w_[bit]): res += \"0\"\n",
        "      else: res += \"1\"\n",
        "\n",
        "    for word in range(1, 4):\n",
        "      res += bin(int(w_word[word][0], 16))[2:].zfill(4) + bin(int(w_word[word][1], 16))[2:].zfill(4)\n",
        "\n",
        "    return res"
      ],
      "metadata": {
        "id": "0jPZtfgMDJI9"
      },
      "execution_count": null,
      "outputs": []
    },
    {
      "cell_type": "code",
      "source": [
        "def Key_Expansion(Key):\n",
        "  w = []\n",
        "  for _ in range (44):\n",
        "    w.append(0)\n",
        "\n",
        "  print(Key)\n",
        "\n",
        "  for row in range(4):\n",
        "    temp = \"\"\n",
        "    for col in range(4):\n",
        "      temp += bin(int(Key[col][row][0], 16))[2:].zfill(4) + bin(int(Key[col][row][1], 16))[2:].zfill(4)\n",
        "    w[row] = temp\n",
        "\n",
        "  for key in range (4, 44):\n",
        "    temp = w[key - 1]\n",
        "    if((key % 4) == 0):\n",
        "      arr = [temp[i:i + 8] for i in range(0, len(temp), 8)]\n",
        "      temp = g(arr, key // 4)\n",
        "\n",
        "    res = \"\"\n",
        "    for bit in range(32):\n",
        "      if(temp[bit] == w[key - 4][bit]): res += \"0\"\n",
        "      else: res += \"1\"\n",
        "    w[key] = res\n",
        "\n",
        "  return w\n"
      ],
      "metadata": {
        "id": "gaCYEkSSBS89"
      },
      "execution_count": null,
      "outputs": []
    },
    {
      "cell_type": "code",
      "source": [
        "def bin_hex(bin_str):\n",
        "    inp = hex(int(bin_str, 2))[2:].zfill(32)\n",
        "    arr = [inp[i:i + 2] for i in range(0, len(inp), 2)]\n",
        "\n",
        "    res = []\n",
        "    for row in range(4):\n",
        "      temp = []\n",
        "      for col in range(4):\n",
        "        temp.append(arr[(4*col) + row])\n",
        "      res.append(temp)\n",
        "\n",
        "    return res\n",
        "\n",
        "print(bin_hex(\"11001100010111111000001001000110001100100110110001011111101010010000111010100011010011010011000001111100101011101010001000010000\"))"
      ],
      "metadata": {
        "colab": {
          "base_uri": "https://localhost:8080/"
        },
        "id": "v_kizdigONsm",
        "outputId": "e8cc6635-74a2-412a-f207-58281d9524d9"
      },
      "execution_count": null,
      "outputs": [
        {
          "output_type": "stream",
          "name": "stdout",
          "text": [
            "[['cc', '32', '0e', '7c'], ['5f', '6c', 'a3', 'ae'], ['82', '5f', '4d', 'a2'], ['46', 'a9', '30', '10']]\n"
          ]
        }
      ]
    },
    {
      "cell_type": "code",
      "source": [
        "def hex_bin(hex_arr):\n",
        "    bin_str = \"\"\n",
        "    for row in range(4):\n",
        "      temp = \"\"\n",
        "      for col in range(4):\n",
        "        temp += str(bin(int(hex_arr[col][row][0], 16))[2:].zfill(4))\n",
        "        temp += str(bin(int(hex_arr[col][row][1], 16))[2:].zfill(4))\n",
        "      bin_str += temp\n",
        "    return bin_str\n",
        "\n",
        "print(hex_bin([['cc', '5f', '82', '46'], ['32', '6c', '5f', 'a9'], ['0e', 'a3', '4d', '30'], ['7c', 'ae', 'a2', '10']]))"
      ],
      "metadata": {
        "colab": {
          "base_uri": "https://localhost:8080/"
        },
        "id": "EcWLjVGvO1GD",
        "outputId": "c95b8770-149f-4b93-c4ad-e8041d4b4797"
      },
      "execution_count": null,
      "outputs": [
        {
          "output_type": "stream",
          "name": "stdout",
          "text": [
            "11001100001100100000111001111100010111110110110010100011101011101000001001011111010011011010001001000110101010010011000000010000\n"
          ]
        }
      ]
    },
    {
      "cell_type": "code",
      "source": [
        "def add_round_key(state_array, key):\n",
        "  # Take xor with word[0:4] and pass to Round 1\n",
        "  str1 = hex_bin(state_array)\n",
        "  str2 = \"\"\n",
        "  for k in key: str2 += k\n",
        "\n",
        "  if((len(str1) != len(str2)) or (len(str1) != 128)):\n",
        "    print(\"Something went Wrong\")\n",
        "    return -1\n",
        "\n",
        "  res = \"\"\n",
        "  for i in range(128):\n",
        "    if(str1[i] == str2[i]): res += \"0\"\n",
        "    else: res += \"1\"\n",
        "  return bin_hex(res)\n",
        "\n",
        "print(add_round_key([['cc', '5f', '82', '46'], ['32', '6c', '5f', 'a9'], ['0e', 'a3', '4d', '30'], ['7c', 'ae', 'a2', '10']], ['11001100010111111000001001000110', '00110010011011000101111110101001', '00001110101000110100110100110000', '01111100101011101010001000010001']))"
      ],
      "metadata": {
        "id": "zLGZjByV_tJw",
        "colab": {
          "base_uri": "https://localhost:8080/"
        },
        "outputId": "03a69fed-1cf3-4450-e03b-5a58b3cc89fb"
      },
      "execution_count": null,
      "outputs": [
        {
          "output_type": "stream",
          "name": "stdout",
          "text": [
            "[['00', '6d', '8c', '3a'], ['6d', '00', 'fc', '07'], ['8c', 'fc', '00', '92'], ['3a', '07', '92', '01']]\n"
          ]
        }
      ]
    },
    {
      "cell_type": "code",
      "source": [
        "def sub_bytes(iperm, round):\n",
        "  res = []\n",
        "  for row in range(4):\n",
        "    temp = []\n",
        "    for col in range(4):\n",
        "      Row = int(iperm[row][col][0], 16)\n",
        "      Col = int(iperm[row][col][1], 16)\n",
        "      temp.append(hex(s_box[Row][Col])[2:].zfill(2))\n",
        "    res.append(temp)\n",
        "  return res\n",
        "\n",
        "print(sub_bytes([['cc', '5f', '82', '46'], ['32', '6c', '5f', 'a9'], ['0e', 'a3', '4d', '30'], ['7c', 'ae', 'a2', '10']], 1))"
      ],
      "metadata": {
        "colab": {
          "base_uri": "https://localhost:8080/"
        },
        "id": "ECW-FWOOe5vY",
        "outputId": "88e9d938-c592-4d70-f981-e15187953457"
      },
      "execution_count": null,
      "outputs": [
        {
          "output_type": "stream",
          "name": "stdout",
          "text": [
            "[['4b', 'cf', '13', '5a'], ['23', '50', 'cf', 'd3'], ['ab', '0a', 'e3', '04'], ['10', 'e4', '3a', 'ca']]\n"
          ]
        }
      ]
    },
    {
      "cell_type": "code",
      "source": [
        "# def f(key):\n",
        "#   k = \"\"\n",
        "#   for _ in key:\n",
        "#     k += str(bin(int(_, 10))[2:]).zfill(4)\n",
        "\n",
        "#   return k\n",
        "\n",
        "# print(len(f(\"1234567890123456\")))"
      ],
      "metadata": {
        "id": "FuVf3KXNfjF6"
      },
      "execution_count": null,
      "outputs": []
    },
    {
      "cell_type": "markdown",
      "source": [
        "For taking the input"
      ],
      "metadata": {
        "id": "wTLY7oA4yo0Z"
      }
    },
    {
      "cell_type": "markdown",
      "source": [
        "# Decryption"
      ],
      "metadata": {
        "id": "-ua-1UehyiUM"
      }
    },
    {
      "cell_type": "code",
      "source": [
        "# Global matrix for inverse Mix Column multiplication\n",
        "ImixcolMatrix = [[14, 11, 13, 9], [9, 14, 11, 13], [13, 9, 14, 11], [11, 13, 9, 14]]\n",
        "\n",
        "# List of Inverse S-Boxes corresponding to the S-Box\n",
        "invs_box = [\n",
        "        [int('52', 16), int('09', 16), int('6a', 16), int('d5', 16), int('30', 16), int('36', 16), int('a5', 16), int('38', 16), int(\n",
        "            'bf', 16), int('40', 16), int('a3', 16), int('9e', 16), int('81', 16), int('f3', 16), int('d7', 16), int('fb', 16)],\n",
        "        [int('7c', 16), int('e3', 16), int('39', 16), int('82', 16), int('9b', 16), int('2f', 16), int('ff', 16), int('87', 16), int(\n",
        "            '34', 16), int('8e', 16), int('43', 16), int('44', 16), int('c4', 16), int('de', 16), int('e9', 16), int('cb', 16)],\n",
        "        [int('54', 16), int('7b', 16), int('94', 16), int('32', 16), int('a6', 16), int('c2', 16), int('23', 16), int('3d', 16), int(\n",
        "            'ee', 16), int('4c', 16), int('95', 16), int('0b', 16), int('42', 16), int('fa', 16), int('c3', 16), int('4e', 16)],\n",
        "        [int('08', 16), int('2e', 16), int('a1', 16), int('66', 16), int('28', 16), int('d9', 16), int('24', 16), int('b2', 16), int(\n",
        "            '76', 16), int('5b', 16), int('a2', 16), int('49', 16), int('6d', 16), int('8b', 16), int('d1', 16), int('25', 16)],\n",
        "        [int('72', 16), int('f8', 16), int('f6', 16), int('64', 16), int('86', 16), int('68', 16), int('98', 16), int('16', 16), int(\n",
        "            'd4', 16), int('a4', 16), int('5c', 16), int('cc', 16), int('5d', 16), int('65', 16), int('b6', 16), int('92', 16)],\n",
        "        [int('6c', 16), int('70', 16), int('48', 16), int('50', 16), int('fd', 16), int('ed', 16), int('b9', 16), int('da', 16), int(\n",
        "            '5e', 16), int('15', 16), int('46', 16), int('57', 16), int('a7', 16), int('8d', 16), int('9d', 16), int('84', 16)],\n",
        "        [int('90', 16), int('d8', 16), int('ab', 16), int('00', 16), int('8c', 16), int('bc', 16), int('d3', 16), int('0a', 16), int(\n",
        "            'f7', 16), int('e4', 16), int('58', 16), int('05', 16), int('b8', 16), int('b3', 16), int('45', 16), int('06', 16)],\n",
        "        [int('d0', 16), int('2c', 16), int('1e', 16), int('8f', 16), int('ca', 16), int('3f', 16), int('0f', 16), int('02', 16), int(\n",
        "            'c1', 16), int('af', 16), int('bd', 16), int('03', 16), int('01', 16), int('13', 16), int('8a', 16), int('6b', 16)],\n",
        "        [int('3a', 16), int('91', 16), int('11', 16), int('41', 16), int('4f', 16), int('67', 16), int('dc', 16), int('ea', 16), int(\n",
        "            '97', 16), int('f2', 16), int('cf', 16), int('ce', 16), int('f0', 16), int('b4', 16), int('e6', 16), int('73', 16)],\n",
        "        [int('96', 16), int('ac', 16), int('74', 16), int('22', 16), int('e7', 16), int('ad', 16), int('35', 16), int('85', 16), int(\n",
        "            'e2', 16), int('f9', 16), int('37', 16), int('e8', 16), int('1c', 16), int('75', 16), int('df', 16), int('6e', 16)],\n",
        "        [int('47', 16), int('f1', 16), int('1a', 16), int('71', 16), int('1d', 16), int('29', 16), int('c5', 16), int('89', 16), int(\n",
        "            '6f', 16), int('b7', 16), int('62', 16), int('0e', 16), int('aa', 16), int('18', 16), int('be', 16), int('1b', 16)],\n",
        "        [int('fc', 16), int('56', 16), int('3e', 16), int('4b', 16), int('c6', 16), int('d2', 16), int('79', 16), int('20', 16), int(\n",
        "            '9a', 16), int('db', 16), int('c0', 16), int('fe', 16), int('78', 16), int('cd', 16), int('5a', 16), int('f4', 16)],\n",
        "        [int('1f', 16), int('dd', 16), int('a8', 16), int('33', 16), int('88', 16), int('07', 16), int('c7', 16), int('31', 16), int(\n",
        "            'b1', 16), int('12', 16), int('10', 16), int('59', 16), int('27', 16), int('80', 16), int('ec', 16), int('5f', 16)],\n",
        "        [int('60', 16), int('51', 16), int('7f', 16), int('a9', 16), int('19', 16), int('b5', 16), int('4a', 16), int('0d', 16), int(\n",
        "            '2d', 16), int('e5', 16), int('7a', 16), int('9f', 16), int('93', 16), int('c9', 16), int('9c', 16), int('ef', 16)],\n",
        "        [int('a0', 16), int('e0', 16), int('3b', 16), int('4d', 16), int('ae', 16), int('2a', 16), int('f5', 16), int('b0', 16), int(\n",
        "            'c8', 16), int('eb', 16), int('bb', 16), int('3c', 16), int('83', 16), int('53', 16), int('99', 16), int('61', 16)],\n",
        "        [int('17', 16), int('2b', 16), int('04', 16), int('7e', 16), int('ba', 16), int('77', 16), int('d6', 16), int('26', 16), int(\n",
        "            'e1', 16), int('69', 16), int('14', 16), int('63', 16), int('55', 16), int('21', 16), int('0c', 16), int('7d', 16)]\n",
        "    ]"
      ],
      "metadata": {
        "id": "VOYUl90kylY0"
      },
      "execution_count": null,
      "outputs": []
    },
    {
      "cell_type": "markdown",
      "source": [
        "Inverse Shift Row"
      ],
      "metadata": {
        "id": "VkJ1KQRY8MuZ"
      }
    },
    {
      "cell_type": "code",
      "source": [
        "def inverse_shift_rows(matrix):\n",
        "    # Second row\n",
        "    saved_1 = matrix[1][3]\n",
        "    for i in range(3,0,-1):\n",
        "        matrix[1][i] = matrix[1][(i-1)%4]\n",
        "    matrix[1][0] = saved_1\n",
        "\n",
        "    # Third row\n",
        "    saved_2_1 = matrix[2][0]\n",
        "    saved_2_2 = matrix[2][1]\n",
        "    for i in range(2):\n",
        "        matrix[2][i] = matrix[2][(i+2)%4]\n",
        "    matrix[2][2] = saved_2_1\n",
        "    matrix[2][3] = saved_2_2\n",
        "\n",
        "    # Fourth row\n",
        "    saved_3 = matrix[3][0]\n",
        "    for i in range(3):\n",
        "        matrix[3][i] = matrix[3][(i+1)%4]\n",
        "    matrix[3][3] = saved_3\n",
        "\n",
        "    return matrix\n",
        "\n",
        "inverse_shift_rows([['4b', 'cf', '13', '5a'], ['23', '50', 'cf', 'd3'], ['ab', '0a', 'e3', '04'], ['10', 'e4', '3a', 'ca']])"
      ],
      "metadata": {
        "id": "SaQrUofa8OdD",
        "colab": {
          "base_uri": "https://localhost:8080/"
        },
        "outputId": "23c7632e-0d93-4f16-d262-4e887594e20c"
      },
      "execution_count": null,
      "outputs": [
        {
          "output_type": "execute_result",
          "data": {
            "text/plain": [
              "[['4b', 'cf', '13', '5a'],\n",
              " ['d3', '23', '50', 'cf'],\n",
              " ['e3', '04', 'ab', '0a'],\n",
              " ['e4', '3a', 'ca', '10']]"
            ]
          },
          "metadata": {},
          "execution_count": 125
        }
      ]
    },
    {
      "cell_type": "code",
      "source": [
        "def inverse_sub_bytes(matrix):\n",
        "    res = []\n",
        "    for row in range(4):\n",
        "        temp = []\n",
        "        for col in range(4):\n",
        "            Row = int(matrix[row][col][0], 16)\n",
        "            Col = int(matrix[row][col][1], 16)\n",
        "            temp.append(hex(invs_box[Row][Col])[2:].zfill(2))\n",
        "        res.append(temp)\n",
        "    return res\n",
        "\n",
        "inverse_sub_bytes([['4b', 'cf', '13', '5a'], ['23', '50', 'cf', 'd3'], ['ab', '0a', 'e3', '04'], ['10', 'e4', '3a', 'ca']])"
      ],
      "metadata": {
        "id": "rpWB2hDVjSX5",
        "colab": {
          "base_uri": "https://localhost:8080/"
        },
        "outputId": "f0424889-9271-4978-fe53-39d8ada1a8ab"
      },
      "execution_count": null,
      "outputs": [
        {
          "output_type": "execute_result",
          "data": {
            "text/plain": [
              "[['cc', '5f', '82', '46'],\n",
              " ['32', '6c', '5f', 'a9'],\n",
              " ['0e', 'a3', '4d', '30'],\n",
              " ['7c', 'ae', 'a2', '10']]"
            ]
          },
          "metadata": {},
          "execution_count": 126
        }
      ]
    },
    {
      "cell_type": "code",
      "source": [
        "def display(matrix):\n",
        "  res = \"\"\n",
        "  for row in range(4):\n",
        "    for col in range(4):\n",
        "      res += matrix[col][row]\n",
        "  return res"
      ],
      "metadata": {
        "id": "mhUwyFr0kCTy"
      },
      "execution_count": null,
      "outputs": []
    },
    {
      "cell_type": "code",
      "execution_count": 131,
      "metadata": {
        "id": "tqd80msajwYo",
        "colab": {
          "base_uri": "https://localhost:8080/"
        },
        "outputId": "07007bc8-45c7-4361-81f3-d1e5f54e3b11"
      },
      "outputs": [
        {
          "output_type": "stream",
          "name": "stdout",
          "text": [
            "Please enter the 128 bits/16 bytes plaintext as input: My name is ABCDE\n",
            "Enter Key for encryption: ABCDEFGHIJKLMNOP\n",
            "PlainText is:  My name is ABCDE\n",
            "PlainText in hex form is:  4d79206e616d65206973204142434445\n",
            "[['41', '45', '49', '4d'], ['42', '46', '4a', '4e'], ['43', '47', '4b', '4f'], ['44', '48', '4c', '50']]\n",
            "Round 1 encrypted value after adding round key [['a6', 'be', 'ca', 'bb'], ['19', '0a', '9b', '54'], ['0a', '11', '5e', '98'], ['82', '5d', 'c7', 'ad']]\n",
            "Round 2 encrypted value after adding round key [['1e', '36', 'd8', 'b9'], ['bc', 'f4', 'b0', 'e7'], ['4a', '49', '18', '75'], ['f4', 'e4', '99', 'cd']]\n",
            "Round 3 encrypted value after adding round key [['c1', 'ed', '56', '0f'], ['06', '38', 'd0', '50'], ['e8', 'eb', '5d', 'cd'], ['8f', '03', 'fa', '83']]\n",
            "Round 4 encrypted value after adding round key [['16', '4c', '58', '74'], ['3c', '83', 'c9', 'd9'], ['91', '7a', '4d', '09'], ['5f', '98', '73', '23']]\n",
            "Round 5 encrypted value after adding round key [['2b', '17', '8f', '62'], ['0a', '4b', 'c2', 'c5'], ['08', '03', '3c', '42'], ['80', '64', '45', '3f']]\n",
            "Round 6 encrypted value after adding round key [['16', '3d', 'ef', '56'], ['3b', 'e8', 'c0', '10'], ['20', '4e', '4f', 'a8'], ['81', 'fe', '3b', '3d']]\n",
            "Round 7 encrypted value after adding round key [['ec', '6a', '58', '98'], ['c3', 'eb', '2c', '6f'], ['3b', '04', '9b', '3c'], ['a5', '49', '94', '3c']]\n",
            "Round 8 encrypted value after adding round key [['e0', 'fd', 'dd', '0c'], ['37', 'd5', '37', 'b7'], ['3a', 'b5', '7c', 'd1'], ['c6', '6f', '83', 'b5']]\n",
            "Round 9 encrypted value after adding round key [['a9', 'a0', '55', '4d'], ['52', 'c8', 'ee', '8e'], ['21', 'f3', '3a', '70'], ['b6', 'f8', 'e8', 'a0']]\n",
            "Round 10 encrypted value after adding round key [['5b', '5f', '47', '7e'], ['c6', '43', '27', 'e9'], ['91', 'c6', 'c0', 'ba'], ['3b', '46', '9b', '74']]\n",
            "Encrpted Text is:  5bc6913b5f43c6464727c09b7ee9ba74\n",
            "Enter Key for decryption: ABCDEFGHIJKLMNOP\n",
            "Round 1 decrypted value after inverse substitution [['a9', 'a0', '55', '4d'], ['52', 'c8', 'ee', '8e'], ['21', 'f3', '3a', '70'], ['b6', 'f8', 'e8', 'a0']]\n",
            "Round 2 decrypted value after inverse substitution [['e0', 'fd', 'dd', '0c'], ['37', 'd5', '37', 'b7'], ['3a', 'b5', '7c', 'd1'], ['c6', '6f', '83', 'b5']]\n",
            "Round 3 decrypted value after inverse substitution [['ec', '6a', '58', '98'], ['c3', 'eb', '2c', '6f'], ['3b', '04', '9b', '3c'], ['a5', '49', '94', '3c']]\n",
            "Round 4 decrypted value after inverse substitution [['16', '3d', 'ef', '56'], ['3b', 'e8', 'c0', '10'], ['20', '4e', '4f', 'a8'], ['81', 'fe', '3b', '3d']]\n",
            "Round 5 decrypted value after inverse substitution [['2b', '17', '8f', '62'], ['0a', '4b', 'c2', 'c5'], ['08', '03', '3c', '42'], ['80', '64', '45', '3f']]\n",
            "Round 6 decrypted value after inverse substitution [['16', '4c', '58', '74'], ['3c', '83', 'c9', 'd9'], ['91', '7a', '4d', '09'], ['5f', '98', '73', '23']]\n",
            "Round 7 decrypted value after inverse substitution [['c1', 'ed', '56', '0f'], ['06', '38', 'd0', '50'], ['e8', 'eb', '5d', 'cd'], ['8f', '03', 'fa', '83']]\n",
            "Round 8 decrypted value after inverse substitution [['1e', '36', 'd8', 'b9'], ['bc', 'f4', 'b0', 'e7'], ['4a', '49', '18', '75'], ['f4', 'e4', '99', 'cd']]\n",
            "Round 9 decrypted value after inverse substitution [['a6', 'be', 'ca', 'bb'], ['19', '0a', '9b', '54'], ['0a', '11', '5e', '98'], ['82', '5d', 'c7', 'ad']]\n",
            "Round 10 decrypted value after inverse substitution [['0c', '24', '20', '0f'], ['3b', '2b', '39', '0d'], ['63', '22', '6b', '0b'], ['2a', '68', '0d', '15']]\n",
            "Decrypted Text in hex form is:  4d79206e616d65206973204142434445\n"
          ]
        }
      ],
      "source": [
        "def main():\n",
        "  plain_text = input(\"Please enter the 128 bits/16 bytes plaintext as input: \")\n",
        "  Key = input(\"Enter Key for encryption: \")\n",
        "  # plain_text = \"11001100010111111000001001000110001100100110110001011111101010010000111010100011010011010011000001111100101011101010001000010000\"\n",
        "  # Key          \"01001000011001010110110001101100011011110111010001101000011010010111001101101001011100110110110101100001011011100110011101101111\"\n",
        "\n",
        "  print(\"PlainText is: \", plain_text)\n",
        "  if(len(plain_text) == 16):\n",
        "    temp = \"\"\n",
        "    for chr in plain_text:\n",
        "      temp += bin(ord(chr))[2:].zfill(8)\n",
        "    plain_text = temp\n",
        "\n",
        "  if(len(Key) == 16):\n",
        "    temp = \"\"\n",
        "    for chr in Key:\n",
        "      temp += bin(ord(chr))[2:].zfill(8)\n",
        "    Key = temp\n",
        "\n",
        "  if len(plain_text) != 128:\n",
        "      print(\"Plain text is not of 128 bits\")\n",
        "      return\n",
        "\n",
        "  print(\"PlainText in hex form is: \", display(bin_hex(plain_text)))\n",
        "\n",
        "  state_array = bin_hex(plain_text)\n",
        "  key = bin_hex(Key)\n",
        "\n",
        "\n",
        "  w = Key_Expansion(key)\n",
        "  # print(w)\n",
        "  iperm = add_round_key(state_array, w[0:4])\n",
        "  # print(\"After Round Key Addition: \", iperm)\n",
        "\n",
        "  for round in range(1, 11):\n",
        "      res1 = sub_bytes(iperm, round)\n",
        "      # print(\"After substitution: \", res1)\n",
        "      res2 = shift_rows(res1, round)\n",
        "      # print(\"After shift rows: \", res2)\n",
        "      res3 = res2\n",
        "      if(round != 10): res3 = mix_columns(res2, False)\n",
        "      # print(\"After mix columns: \", res3)\n",
        "      res4 = add_round_key(res3, w[4 * round : (4 * round) + 4])\n",
        "      print(f\"Round {round} encrypted value after adding round key\",res4)\n",
        "      iperm = res4\n",
        "\n",
        "  print(\"Encrpted Text is: \", display(iperm))\n",
        "\n",
        "  encrypted_text = iperm\n",
        "  Key = input(\"Enter Key for decryption: \")\n",
        "  encrypted_text = add_round_key(encrypted_text, w[40: 44])\n",
        "  for round in range(10, 0, -1):\n",
        "    res1 = inverse_shift_rows(encrypted_text)\n",
        "    res2 = inverse_sub_bytes(res1)\n",
        "    print(f\"Round {10 - round + 1} decrypted value after inverse substitution\",res2)\n",
        "    res3 = add_round_key(res2, w[(4 * round) - 4 : (4 * round)])\n",
        "    res4 = res3\n",
        "    if(round != 1): res4 = mix_columns(res3, True)\n",
        "    encrypted_text = res4\n",
        "\n",
        "  print(\"Decrypted Text in hex form is: \", display(encrypted_text))\n",
        "\n",
        "main()"
      ]
    }
  ]
}