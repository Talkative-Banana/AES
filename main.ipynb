{
  "nbformat": 4,
  "nbformat_minor": 0,
  "metadata": {
    "colab": {
      "provenance": []
    },
    "kernelspec": {
      "name": "python3",
      "display_name": "Python 3"
    },
    "language_info": {
      "name": "python"
    }
  },
  "cells": [
    {
      "cell_type": "markdown",
      "source": [
        "## Assignment 4"
      ],
      "metadata": {
        "id": "KxvAbP7ekHPO"
      }
    },
    {
      "cell_type": "markdown",
      "source": [
        "# Encryption"
      ],
      "metadata": {
        "id": "6aT8OEoCye9U"
      }
    },
    {
      "cell_type": "code",
      "source": [
        "pip install galois"
      ],
      "metadata": {
        "id": "um4-WGdxIQ5h",
        "colab": {
          "base_uri": "https://localhost:8080/"
        },
        "outputId": "339d9e88-0ef9-4960-d948-c4a051088cbd"
      },
      "execution_count": 47,
      "outputs": [
        {
          "output_type": "stream",
          "name": "stdout",
          "text": [
            "Requirement already satisfied: galois in /usr/local/lib/python3.10/dist-packages (0.4.2)\n",
            "Requirement already satisfied: numpy<2.2,>=1.21.0 in /usr/local/lib/python3.10/dist-packages (from galois) (1.26.4)\n",
            "Requirement already satisfied: numba<0.61,>=0.55 in /usr/local/lib/python3.10/dist-packages (from galois) (0.60.0)\n",
            "Requirement already satisfied: typing-extensions>=4.0.0 in /usr/local/lib/python3.10/dist-packages (from galois) (4.12.2)\n",
            "Requirement already satisfied: llvmlite<0.44,>=0.43.0dev0 in /usr/local/lib/python3.10/dist-packages (from numba<0.61,>=0.55->galois) (0.43.0)\n"
          ]
        }
      ]
    },
    {
      "cell_type": "code",
      "source": [
        "import numpy as np\n",
        "import galois\n",
        "\n",
        "GF = galois.GF(2**8, irreducible_poly=galois.Poly.Degrees([8,4,3,1,0]))\n",
        "\n",
        "# Global matrix for Mix Column multiplication\n",
        "\n",
        "mixcolMatrix = [[2, 3, 1, 1], [1, 2, 3, 1], [1, 1, 2, 3], [3, 1, 1, 2]]\n",
        "\n",
        "# List of S-Boxes different for each round\n",
        "s_box = [\n",
        "        [int('63', 16), int('7c', 16), int('77', 16), int('7b', 16), int('f2', 16), int('6b', 16), int('6f', 16), int('c5', 16), int(\n",
        "            '30', 16), int('01', 16), int('67', 16), int('2b', 16), int('fe', 16), int('d7', 16), int('ab', 16), int('76', 16)],\n",
        "        [int('ca', 16), int('82', 16), int('c9', 16), int('7d', 16), int('fa', 16), int('59', 16), int('47', 16), int('f0', 16), int(\n",
        "            'ad', 16), int('d4', 16), int('a2', 16), int('af', 16), int('9c', 16), int('a4', 16), int('72', 16), int('c0', 16)],\n",
        "        [int('b7', 16), int('fd', 16), int('93', 16), int('26', 16), int('36', 16), int('3f', 16), int('f7', 16), int('cc', 16), int(\n",
        "            '34', 16), int('a5', 16), int('e5', 16), int('f1', 16), int('71', 16), int('d8', 16), int('31', 16), int('15', 16)],\n",
        "        [int('04', 16), int('c7', 16), int('23', 16), int('c3', 16), int('18', 16), int('96', 16), int('05', 16), int('9a', 16), int(\n",
        "            '07', 16), int('12', 16), int('80', 16), int('e2', 16), int('eb', 16), int('27', 16), int('b2', 16), int('75', 16)],\n",
        "        [int('09', 16), int('83', 16), int('2c', 16), int('1a', 16), int('1b', 16), int('6e', 16), int('5a', 16), int('a0', 16), int(\n",
        "            '52', 16), int('3b', 16), int('d6', 16), int('b3', 16), int('29', 16), int('e3', 16), int('2f', 16), int('84', 16)],\n",
        "        [int('53', 16), int('d1', 16), int('00', 16), int('ed', 16), int('20', 16), int('fc', 16), int('b1', 16), int('5b', 16), int(\n",
        "            '6a', 16), int('cb', 16), int('be', 16), int('39', 16), int('4a', 16), int('4c', 16), int('58', 16), int('cf', 16)],\n",
        "        [int('d0', 16), int('ef', 16), int('aa', 16), int('fb', 16), int('43', 16), int('4d', 16), int('33', 16), int('85', 16), int(\n",
        "            '45', 16), int('f9', 16), int('02', 16), int('7f', 16), int('50', 16), int('3c', 16), int('9f', 16), int('a8', 16)],\n",
        "        [int('51', 16), int('a3', 16), int('40', 16), int('8f', 16), int('92', 16), int('9d', 16), int('38', 16), int('f5', 16), int(\n",
        "            'bc', 16), int('b6', 16), int('da', 16), int('21', 16), int('10', 16), int('ff', 16), int('f3', 16), int('d2', 16)],\n",
        "        [int('cd', 16), int('0c', 16), int('13', 16), int('ec', 16), int('5f', 16), int('97', 16), int('44', 16), int('17', 16), int(\n",
        "            'c4', 16), int('a7', 16), int('7e', 16), int('3d', 16), int('64', 16), int('5d', 16), int('19', 16), int('73', 16)],\n",
        "        [int('60', 16), int('81', 16), int('4f', 16), int('dc', 16), int('22', 16), int('2a', 16), int('90', 16), int('88', 16), int(\n",
        "            '46', 16), int('ee', 16), int('b8', 16), int('14', 16), int('de', 16), int('5e', 16), int('0b', 16), int('db', 16)],\n",
        "        [int('e0', 16), int('32', 16), int('3a', 16), int('0a', 16), int('49', 16), int('06', 16), int('24', 16), int('5c', 16), int(\n",
        "            'c2', 16), int('d3', 16), int('ac', 16), int('62', 16), int('91', 16), int('95', 16), int('e4', 16), int('79', 16)],\n",
        "        [int('e7', 16), int('c8', 16), int('37', 16), int('6d', 16), int('8d', 16), int('d5', 16), int('4e', 16), int('a9', 16), int(\n",
        "            '6c', 16), int('56', 16), int('f4', 16), int('ea', 16), int('65', 16), int('7a', 16), int('ae', 16), int('08', 16)],\n",
        "        [int('ba', 16), int('78', 16), int('25', 16), int('2e', 16), int('1c', 16), int('a6', 16), int('b4', 16), int('c6', 16), int(\n",
        "            'e8', 16), int('dd', 16), int('74', 16), int('1f', 16), int('4b', 16), int('bd', 16), int('8b', 16), int('8a', 16)],\n",
        "        [int('70', 16), int('3e', 16), int('b5', 16), int('66', 16), int('48', 16), int('03', 16), int('f6', 16), int('0e', 16), int(\n",
        "            '61', 16), int('35', 16), int('57', 16), int('b9', 16), int('86', 16), int('c1', 16), int('1d', 16), int('9e', 16)],\n",
        "        [int('e1', 16), int('f8', 16), int('98', 16), int('11', 16), int('69', 16), int('d9', 16), int('8e', 16), int('94', 16), int(\n",
        "            '9b', 16), int('1e', 16), int('87', 16), int('e9', 16), int('ce', 16), int('55', 16), int('28', 16), int('df', 16)],\n",
        "        [int('8c', 16), int('a1', 16), int('89', 16), int('0d', 16), int('bf', 16), int('e6', 16), int('42', 16), int('68', 16), int(\n",
        "            '41', 16), int('99', 16), int('2d', 16), int('0f', 16), int('b0', 16), int('54', 16), int('bb', 16), int('16', 16)]\n",
        "    ]"
      ],
      "metadata": {
        "id": "apx2t2dszUn-"
      },
      "execution_count": 48,
      "outputs": []
    },
    {
      "cell_type": "markdown",
      "source": [
        "## ShiftRows"
      ],
      "metadata": {
        "id": "yOwWDHiH57tB"
      }
    },
    {
      "cell_type": "code",
      "source": [
        "def shift_rows(matrix, round):\n",
        "    # Second row [Shift by 1]\n",
        "    saved_1 = matrix[1][0]\n",
        "    for i in range(3):\n",
        "        matrix[1][i] = matrix[1][(i+1)%4]\n",
        "    matrix[1][3] = saved_1\n",
        "\n",
        "    # Third row [Shift by 2]\n",
        "    saved_2_1 = matrix[2][0]\n",
        "    saved_2_2 = matrix[2][1]\n",
        "    for i in range(2):\n",
        "        matrix[2][i] = matrix[2][(i+2)%4]\n",
        "    matrix[2][2] = saved_2_1\n",
        "    matrix[2][3] = saved_2_2\n",
        "\n",
        "    # Fourth row [Shift by 3]\n",
        "    saved_3 = matrix[3][3]\n",
        "    for i in range(3,0,-1):\n",
        "        matrix[3][i] = matrix[3][(i-1)%4]\n",
        "    matrix[3][0] = saved_3\n",
        "\n",
        "    return matrix\n",
        "\n",
        "# Usage\n",
        "print(shift_rows([['cc', '5f', '82', '46'], ['32', '6c', '5f', 'a9'], ['0e', 'a3', '4d', '30'], ['7c', 'ae', 'a2', '10']], 1))"
      ],
      "metadata": {
        "id": "yiicyvZD5-b_",
        "colab": {
          "base_uri": "https://localhost:8080/"
        },
        "outputId": "b5b34e4d-4761-45cc-c97d-1c626cea2e8c"
      },
      "execution_count": 49,
      "outputs": [
        {
          "output_type": "stream",
          "name": "stdout",
          "text": [
            "[['cc', '5f', '82', '46'], ['6c', '5f', 'a9', '32'], ['4d', '30', '0e', 'a3'], ['10', '7c', 'ae', 'a2']]\n"
          ]
        }
      ]
    },
    {
      "cell_type": "markdown",
      "source": [
        "## MixColumns"
      ],
      "metadata": {
        "id": "eWQHhliS9vFl"
      }
    },
    {
      "cell_type": "code",
      "source": [
        "def mix_columns(matrix):\n",
        "  mat = [[0 for _ in range(4)] for __ in range(4)]\n",
        "  # Column representaion\n",
        "  for row in range(4):\n",
        "    for col in range(4):\n",
        "      mat[row][col] = int(matrix[row][col], 16)\n",
        "\n",
        "  # Galois Multiplication\n",
        "  matrix = GF(np.array(mat))\n",
        "  M = GF(np.array(mixcolMatrix))\n",
        "  a = np.array(np.dot(M, matrix))\n",
        "\n",
        "  # Resultant Matrix\n",
        "  res = [[\"\" for _ in range(4)] for __ in range(4)]\n",
        "  for row in range(4):\n",
        "    for col in range(4):\n",
        "      res[row][col] = hex(int(a[row][col]))[2:].zfill(2)\n",
        "\n",
        "  return res\n",
        "\n",
        "# Usage\n",
        "mix_columns([['87', 'f2', '4d', '97'], ['6e', '4c', '90', 'ec'], ['46', 'e7', '4a', 'c3'], ['a6', '8c', 'd8', '95']])"
      ],
      "metadata": {
        "id": "U1Dt0MyxLHKB",
        "colab": {
          "base_uri": "https://localhost:8080/"
        },
        "outputId": "c1a2dba1-349a-40d9-9378-87f65b563039"
      },
      "execution_count": 50,
      "outputs": [
        {
          "output_type": "execute_result",
          "data": {
            "text/plain": [
              "[['47', '40', 'a3', '4c'],\n",
              " ['37', 'd4', '70', '9f'],\n",
              " ['94', 'e4', '3a', '42'],\n",
              " ['ed', 'a5', 'a6', 'bc']]"
            ]
          },
          "metadata": {},
          "execution_count": 50
        }
      ]
    },
    {
      "cell_type": "code",
      "source": [
        "rc_dictionary = {1: \"01\", 2: \"02\", 3: \"04\", 4: \"08\", 5: \"10\", 6: \"20\", 7: \"40\", 8:\"80\", 9:\"1B\", 10: \"36\"}\n",
        "# performs g function\n",
        "def g(w_word, round):\n",
        "    # Shift Operation\n",
        "    temp = w_word[0]\n",
        "    for i in range(3):\n",
        "        w_word[i] = w_word[(i+1)%4]\n",
        "    w_word[3] = temp\n",
        "\n",
        "    for i in range(4):\n",
        "        w_word[i] = hex(s_box[int(w_word[i][:4], 2)][int(w_word[i][4:], 2)])[2:].zfill(2)\n",
        "\n",
        "    w0 = bin(int(w_word[0][0], 16))[2:].zfill(4) + bin(int(w_word[0][1], 16))[2:].zfill(4)\n",
        "    w_ = bin(int(rc_dictionary[round][0], 16))[2:].zfill(4) + bin(int(rc_dictionary[round][1], 16))[2:].zfill(4)\n",
        "    # Xor\n",
        "    res = \"\"\n",
        "    for bit in range(8):\n",
        "      if(w0[bit] == w_[bit]): res += \"0\"\n",
        "      else: res += \"1\"\n",
        "\n",
        "    for word in range(1, 4):\n",
        "      res += bin(int(w_word[word][0], 16))[2:].zfill(4) + bin(int(w_word[word][1], 16))[2:].zfill(4)\n",
        "\n",
        "    return res"
      ],
      "metadata": {
        "id": "0jPZtfgMDJI9"
      },
      "execution_count": 51,
      "outputs": []
    },
    {
      "cell_type": "code",
      "source": [
        "# Expands the key to 44 subkeys\n",
        "def Key_Expansion(Key):\n",
        "  w = []\n",
        "  # 00000000000000000000000000000000000000000000\n",
        "  for _ in range (44): w.append(0)\n",
        "\n",
        "  for row in range(4):\n",
        "    temp = \"\"\n",
        "    for col in range(4):\n",
        "      temp += bin(int(Key[col][row][0], 16))[2:].zfill(4) + bin(int(Key[col][row][1], 16))[2:].zfill(4)\n",
        "    w[row] = temp\n",
        "\n",
        "  for key in range (4, 44):\n",
        "    temp = w[key - 1]\n",
        "    if((key % 4) == 0):\n",
        "      arr = [temp[i:i + 8] for i in range(0, len(temp), 8)]\n",
        "      temp = g(arr, key // 4)\n",
        "\n",
        "    res = \"\"\n",
        "    for bit in range(32):\n",
        "      if(temp[bit] == w[key - 4][bit]): res += \"0\"\n",
        "      else: res += \"1\"\n",
        "    w[key] = res\n",
        "\n",
        "  return w"
      ],
      "metadata": {
        "id": "gaCYEkSSBS89"
      },
      "execution_count": 52,
      "outputs": []
    },
    {
      "cell_type": "code",
      "source": [
        "# Converts Bin to Hex\n",
        "def bin_hex(bin_str):\n",
        "    inp = hex(int(bin_str, 2))[2:].zfill(32)\n",
        "    arr = [inp[i:i + 2] for i in range(0, len(inp), 2)]\n",
        "\n",
        "    res = []\n",
        "    for row in range(4):\n",
        "      temp = []\n",
        "      for col in range(4):\n",
        "        temp.append(arr[(4*col) + row])\n",
        "      res.append(temp)\n",
        "\n",
        "    return res\n",
        "\n",
        "# Usage\n",
        "print(bin_hex(\"11001100010111111000001001000110001100100110110001011111101010010000111010100011010011010011000001111100101011101010001000010000\"))"
      ],
      "metadata": {
        "colab": {
          "base_uri": "https://localhost:8080/"
        },
        "id": "v_kizdigONsm",
        "outputId": "f3fa236a-a56d-421a-b12c-a3f57f85ed68"
      },
      "execution_count": 53,
      "outputs": [
        {
          "output_type": "stream",
          "name": "stdout",
          "text": [
            "[['cc', '32', '0e', '7c'], ['5f', '6c', 'a3', 'ae'], ['82', '5f', '4d', 'a2'], ['46', 'a9', '30', '10']]\n"
          ]
        }
      ]
    },
    {
      "cell_type": "code",
      "source": [
        "# Converts Hex to Bin\n",
        "def hex_bin(hex_arr):\n",
        "    bin_str = \"\"\n",
        "    for row in range(4):\n",
        "      temp = \"\"\n",
        "      for col in range(4):\n",
        "        temp += str(bin(int(hex_arr[col][row][0], 16))[2:].zfill(4))\n",
        "        temp += str(bin(int(hex_arr[col][row][1], 16))[2:].zfill(4))\n",
        "      bin_str += temp\n",
        "    return bin_str\n",
        "\n",
        "# Usage\n",
        "print(hex_bin([['cc', '5f', '82', '46'], ['32', '6c', '5f', 'a9'], ['0e', 'a3', '4d', '30'], ['7c', 'ae', 'a2', '10']]))"
      ],
      "metadata": {
        "colab": {
          "base_uri": "https://localhost:8080/"
        },
        "id": "EcWLjVGvO1GD",
        "outputId": "c0906998-ddda-4650-b606-57124b424ad2"
      },
      "execution_count": 54,
      "outputs": [
        {
          "output_type": "stream",
          "name": "stdout",
          "text": [
            "11001100001100100000111001111100010111110110110010100011101011101000001001011111010011011010001001000110101010010011000000010000\n"
          ]
        }
      ]
    },
    {
      "cell_type": "markdown",
      "source": [
        "## Add Round Key"
      ],
      "metadata": {
        "id": "VLPfdPa6zJJl"
      }
    },
    {
      "cell_type": "code",
      "source": [
        "def add_round_key(state_array, key):\n",
        "  # Take xor with word[0:4] and pass to Round 1\n",
        "  str1 = hex_bin(state_array)\n",
        "  str2 = \"\"\n",
        "  for k in key: str2 += k\n",
        "  # Resultant\n",
        "  res = \"\"\n",
        "  for i in range(128):\n",
        "    if(str1[i] == str2[i]): res += \"0\"\n",
        "    else: res += \"1\"\n",
        "  return bin_hex(res)\n",
        "\n",
        "# Usage\n",
        "print(add_round_key([['cc', '5f', '82', '46'], ['32', '6c', '5f', 'a9'], ['0e', 'a3', '4d', '30'], ['7c', 'ae', 'a2', '10']], ['11001100010111111000001001000110', '00110010011011000101111110101001', '00001110101000110100110100110000', '01111100101011101010001000010001']))"
      ],
      "metadata": {
        "id": "zLGZjByV_tJw",
        "colab": {
          "base_uri": "https://localhost:8080/"
        },
        "outputId": "0949eb05-046d-4b08-ce59-cf1134f139a7"
      },
      "execution_count": 55,
      "outputs": [
        {
          "output_type": "stream",
          "name": "stdout",
          "text": [
            "[['00', '6d', '8c', '3a'], ['6d', '00', 'fc', '07'], ['8c', 'fc', '00', '92'], ['3a', '07', '92', '01']]\n"
          ]
        }
      ]
    },
    {
      "cell_type": "markdown",
      "source": [
        "## Substitute Bytes"
      ],
      "metadata": {
        "id": "_SilXAHB0nd6"
      }
    },
    {
      "cell_type": "code",
      "source": [
        "# By making use of s_box substitutes bytes\n",
        "def sub_bytes(iperm):\n",
        "  res = []\n",
        "  for row in range(4):\n",
        "    temp = []\n",
        "    for col in range(4):\n",
        "      Row = int(iperm[row][col][0], 16)\n",
        "      Col = int(iperm[row][col][1], 16)\n",
        "      temp.append(hex(s_box[Row][Col])[2:].zfill(2))\n",
        "    res.append(temp)\n",
        "  return res\n",
        "\n",
        "# Usage\n",
        "print(sub_bytes([['cc', '5f', '82', '46'], ['32', '6c', '5f', 'a9'], ['0e', 'a3', '4d', '30'], ['7c', 'ae', 'a2', '10']]))"
      ],
      "metadata": {
        "colab": {
          "base_uri": "https://localhost:8080/"
        },
        "id": "ECW-FWOOe5vY",
        "outputId": "48b26f7e-0140-49ad-81d4-11251af2e8e0"
      },
      "execution_count": 56,
      "outputs": [
        {
          "output_type": "stream",
          "name": "stdout",
          "text": [
            "[['4b', 'cf', '13', '5a'], ['23', '50', 'cf', 'd3'], ['ab', '0a', 'e3', '04'], ['10', 'e4', '3a', 'ca']]\n"
          ]
        }
      ]
    },
    {
      "cell_type": "code",
      "source": [
        "# Coverts a 3x3 array into a matrix format string\n",
        "def tomatrix(matrix):\n",
        "  res = \"\"\n",
        "  for col in range(4):\n",
        "    for row in range(4):\n",
        "      res += matrix[col][row] + \" \\n\"[row==3]\n",
        "  return res"
      ],
      "metadata": {
        "id": "cqLGR7BYqsC3"
      },
      "execution_count": 57,
      "outputs": []
    },
    {
      "cell_type": "code",
      "source": [
        "import pandas as pd\n",
        "from tabulate import tabulate"
      ],
      "metadata": {
        "id": "_kvmJf9uuEQT"
      },
      "execution_count": 58,
      "outputs": []
    },
    {
      "cell_type": "code",
      "execution_count": 59,
      "metadata": {
        "id": "tqd80msajwYo",
        "colab": {
          "base_uri": "https://localhost:8080/",
          "height": 356
        },
        "outputId": "5cbc9f6a-2547-43d4-982a-bfc5d716ac4d"
      },
      "outputs": [
        {
          "output_type": "stream",
          "name": "stdout",
          "text": [
            "Do not add spaces in b/w\n"
          ]
        },
        {
          "output_type": "error",
          "ename": "KeyboardInterrupt",
          "evalue": "Interrupted by user",
          "traceback": [
            "\u001b[0;31m---------------------------------------------------------------------------\u001b[0m",
            "\u001b[0;31mKeyboardInterrupt\u001b[0m                         Traceback (most recent call last)",
            "\u001b[0;32m<ipython-input-59-5f273c46171a>\u001b[0m in \u001b[0;36m<cell line: 74>\u001b[0;34m()\u001b[0m\n\u001b[1;32m     72\u001b[0m   \u001b[0mprint\u001b[0m\u001b[0;34m(\u001b[0m\u001b[0mtabulate\u001b[0m\u001b[0;34m(\u001b[0m\u001b[0mdf\u001b[0m\u001b[0;34m,\u001b[0m \u001b[0mheaders\u001b[0m \u001b[0;34m=\u001b[0m \u001b[0;34m'keys'\u001b[0m\u001b[0;34m,\u001b[0m \u001b[0mtablefmt\u001b[0m \u001b[0;34m=\u001b[0m \u001b[0;34m'rounded_grid'\u001b[0m\u001b[0;34m)\u001b[0m\u001b[0;34m)\u001b[0m\u001b[0;34m\u001b[0m\u001b[0;34m\u001b[0m\u001b[0m\n\u001b[1;32m     73\u001b[0m \u001b[0;34m\u001b[0m\u001b[0m\n\u001b[0;32m---> 74\u001b[0;31m \u001b[0mmain\u001b[0m\u001b[0;34m(\u001b[0m\u001b[0;34m)\u001b[0m\u001b[0;34m\u001b[0m\u001b[0;34m\u001b[0m\u001b[0m\n\u001b[0m",
            "\u001b[0;32m<ipython-input-59-5f273c46171a>\u001b[0m in \u001b[0;36mmain\u001b[0;34m()\u001b[0m\n\u001b[1;32m      2\u001b[0m   \u001b[0;31m# Input[Do not add spaces in b/w]\u001b[0m\u001b[0;34m\u001b[0m\u001b[0;34m\u001b[0m\u001b[0m\n\u001b[1;32m      3\u001b[0m   \u001b[0mprint\u001b[0m\u001b[0;34m(\u001b[0m\u001b[0;34m\"Do not add spaces in b/w\"\u001b[0m\u001b[0;34m)\u001b[0m\u001b[0;34m\u001b[0m\u001b[0;34m\u001b[0m\u001b[0m\n\u001b[0;32m----> 4\u001b[0;31m   \u001b[0mplain_text\u001b[0m \u001b[0;34m=\u001b[0m \u001b[0minput\u001b[0m\u001b[0;34m(\u001b[0m\u001b[0;34m\"Plaintext: \"\u001b[0m\u001b[0;34m)\u001b[0m\u001b[0;34m\u001b[0m\u001b[0;34m\u001b[0m\u001b[0m\n\u001b[0m\u001b[1;32m      5\u001b[0m   \u001b[0mKey\u001b[0m \u001b[0;34m=\u001b[0m \u001b[0minput\u001b[0m\u001b[0;34m(\u001b[0m\u001b[0;34m\"Key: \"\u001b[0m\u001b[0;34m)\u001b[0m\u001b[0;34m\u001b[0m\u001b[0;34m\u001b[0m\u001b[0m\n\u001b[1;32m      6\u001b[0m   \u001b[0mr\u001b[0m \u001b[0;34m=\u001b[0m \u001b[0mint\u001b[0m\u001b[0;34m(\u001b[0m\u001b[0minput\u001b[0m\u001b[0;34m(\u001b[0m\u001b[0;34m\"R: \"\u001b[0m\u001b[0;34m)\u001b[0m\u001b[0;34m)\u001b[0m\u001b[0;34m\u001b[0m\u001b[0;34m\u001b[0m\u001b[0m\n",
            "\u001b[0;32m/usr/local/lib/python3.10/dist-packages/ipykernel/kernelbase.py\u001b[0m in \u001b[0;36mraw_input\u001b[0;34m(self, prompt)\u001b[0m\n\u001b[1;32m    849\u001b[0m                 \u001b[0;34m\"raw_input was called, but this frontend does not support input requests.\"\u001b[0m\u001b[0;34m\u001b[0m\u001b[0;34m\u001b[0m\u001b[0m\n\u001b[1;32m    850\u001b[0m             )\n\u001b[0;32m--> 851\u001b[0;31m         return self._input_request(str(prompt),\n\u001b[0m\u001b[1;32m    852\u001b[0m             \u001b[0mself\u001b[0m\u001b[0;34m.\u001b[0m\u001b[0m_parent_ident\u001b[0m\u001b[0;34m,\u001b[0m\u001b[0;34m\u001b[0m\u001b[0;34m\u001b[0m\u001b[0m\n\u001b[1;32m    853\u001b[0m             \u001b[0mself\u001b[0m\u001b[0;34m.\u001b[0m\u001b[0m_parent_header\u001b[0m\u001b[0;34m,\u001b[0m\u001b[0;34m\u001b[0m\u001b[0;34m\u001b[0m\u001b[0m\n",
            "\u001b[0;32m/usr/local/lib/python3.10/dist-packages/ipykernel/kernelbase.py\u001b[0m in \u001b[0;36m_input_request\u001b[0;34m(self, prompt, ident, parent, password)\u001b[0m\n\u001b[1;32m    893\u001b[0m             \u001b[0;32mexcept\u001b[0m \u001b[0mKeyboardInterrupt\u001b[0m\u001b[0;34m:\u001b[0m\u001b[0;34m\u001b[0m\u001b[0;34m\u001b[0m\u001b[0m\n\u001b[1;32m    894\u001b[0m                 \u001b[0;31m# re-raise KeyboardInterrupt, to truncate traceback\u001b[0m\u001b[0;34m\u001b[0m\u001b[0;34m\u001b[0m\u001b[0m\n\u001b[0;32m--> 895\u001b[0;31m                 \u001b[0;32mraise\u001b[0m \u001b[0mKeyboardInterrupt\u001b[0m\u001b[0;34m(\u001b[0m\u001b[0;34m\"Interrupted by user\"\u001b[0m\u001b[0;34m)\u001b[0m \u001b[0;32mfrom\u001b[0m \u001b[0;32mNone\u001b[0m\u001b[0;34m\u001b[0m\u001b[0;34m\u001b[0m\u001b[0m\n\u001b[0m\u001b[1;32m    896\u001b[0m             \u001b[0;32mexcept\u001b[0m \u001b[0mException\u001b[0m \u001b[0;32mas\u001b[0m \u001b[0me\u001b[0m\u001b[0;34m:\u001b[0m\u001b[0;34m\u001b[0m\u001b[0;34m\u001b[0m\u001b[0m\n\u001b[1;32m    897\u001b[0m                 \u001b[0mself\u001b[0m\u001b[0;34m.\u001b[0m\u001b[0mlog\u001b[0m\u001b[0;34m.\u001b[0m\u001b[0mwarning\u001b[0m\u001b[0;34m(\u001b[0m\u001b[0;34m\"Invalid Message:\"\u001b[0m\u001b[0;34m,\u001b[0m \u001b[0mexc_info\u001b[0m\u001b[0;34m=\u001b[0m\u001b[0;32mTrue\u001b[0m\u001b[0;34m)\u001b[0m\u001b[0;34m\u001b[0m\u001b[0;34m\u001b[0m\u001b[0m\n",
            "\u001b[0;31mKeyboardInterrupt\u001b[0m: Interrupted by user"
          ]
        }
      ],
      "source": [
        "def main():\n",
        "  # Input[Do not add spaces in b/w]\n",
        "  print(\"Do not add spaces in b/w\")\n",
        "  plain_text = input(\"Plaintext: \")\n",
        "  Key = input(\"Key: \")\n",
        "  r = int(input(\"R: \"))\n",
        "  if(r > 10 or r < 1):\n",
        "    print(\"Invalid r\")\n",
        "    exit(1)\n",
        "\n",
        "  # Sample Input\n",
        "  # plain_text = \"0123456789abcdeffedcba9876543210\"\n",
        "  # Key = \"0f1571c947d9e8590cb7add6af7f6798\"\n",
        "  # r = 10\n",
        "\n",
        "  if(len(plain_text) == 32):\n",
        "    temp = \"\"\n",
        "    for chr in plain_text:\n",
        "      c = '0' if chr <= '9' else 'W'\n",
        "      temp += bin(ord(chr) - ord(c))[2:].zfill(4)\n",
        "    plain_text = temp\n",
        "\n",
        "  if(len(Key) == 32):\n",
        "    temp = \"\"\n",
        "    for chr in Key:\n",
        "      c = '0' if chr <= '9' else 'W'\n",
        "      temp += bin(ord(chr) - ord(c))[2:].zfill(4)\n",
        "    Key = temp\n",
        "\n",
        "  if len(plain_text) != 128:\n",
        "      print(\"Plain text is not of 128 bits\")\n",
        "      return\n",
        "\n",
        "  state_array = bin_hex(plain_text)\n",
        "  key = bin_hex(Key)\n",
        "  # Table Df\n",
        "  df = pd.DataFrame({\"Start of Round\": [], \"After SubBytes\": [], \"After ShiftRows\": [], \"After MixColumns\": [], \"Round Key\": []});\n",
        "  # Round [0] Add to the table\n",
        "  df2 = pd.DataFrame([[tomatrix(state_array),None,None,None,tomatrix(key)]], columns=['Start of Round','After SubBytes','After ShiftRows', \"After MixColumns\", \"Round Key\"])\n",
        "  df = pd.concat([df, df2], ignore_index=True)\n",
        "\n",
        "  w = Key_Expansion(key)\n",
        "  # Inital permutation\n",
        "  iperm = add_round_key(state_array, w[0:4])\n",
        "\n",
        "  for round in range(1, r+1):\n",
        "      # Result after substitution\n",
        "      res1 = sub_bytes(iperm)\n",
        "      # Deep copy of res1 without using any library\n",
        "      r1 = [row[:] for row in res1]\n",
        "      # Result after Shift Rows\n",
        "      res2 = shift_rows(r1, round)\n",
        "      # Result after mix_column\n",
        "      res3 = res2\n",
        "      if(round != 10): res3 = mix_columns(res2)\n",
        "      # Result after add_round_key\n",
        "      res4 = add_round_key(res3, w[4 * round : (4 * round) + 4])\n",
        "      # Add to table\n",
        "      rk = bin_hex(''.join(w[4 * round : (4 * round) + 4]))\n",
        "      if(round != 10):\n",
        "        df2 = pd.DataFrame([[tomatrix(iperm),tomatrix(res1),tomatrix(res2),tomatrix(res3),tomatrix(rk)]], columns=['Start of Round','After SubBytes','After ShiftRows', \"After MixColumns\", \"Round Key\"])\n",
        "      else:\n",
        "        df2 = pd.DataFrame([[tomatrix(iperm),tomatrix(res1),tomatrix(res2),None,tomatrix(rk)]], columns=['Start of Round','After SubBytes','After ShiftRows', \"After MixColumns\", \"Round Key\"])\n",
        "\n",
        "      df = pd.concat([df, df2], ignore_index=True)\n",
        "      iperm = res4\n",
        "\n",
        "  # final result\n",
        "  df2 = pd.DataFrame([[tomatrix(iperm),None,None,None,None]], columns=['Start of Round','After SubBytes','After ShiftRows', \"After MixColumns\", \"Round Key\"])\n",
        "  df = pd.concat([df, df2], ignore_index=True)\n",
        "  # Table\n",
        "  print(tabulate(df, headers = 'keys', tablefmt = 'rounded_grid'))\n",
        "\n",
        "main()"
      ]
    },
    {
      "cell_type": "code",
      "source": [
        "# 0123456789abcdeffedcba9876543210\n",
        "# 0f1571c947d9e8590cb7add6af7f6798"
      ],
      "metadata": {
        "id": "KtmyoYByyJuv"
      },
      "execution_count": null,
      "outputs": []
    }
  ]
}